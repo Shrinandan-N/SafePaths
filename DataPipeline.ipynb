{
  "nbformat": 4,
  "nbformat_minor": 0,
  "metadata": {
    "colab": {
      "provenance": [],
      "collapsed_sections": [],
      "authorship_tag": "ABX9TyNiA3HNM6iRFVQaUflrS03C",
      "include_colab_link": true
    },
    "kernelspec": {
      "name": "python3",
      "display_name": "Python 3"
    },
    "language_info": {
      "name": "python"
    }
  },
  "cells": [
    {
      "cell_type": "markdown",
      "metadata": {
        "id": "view-in-github",
        "colab_type": "text"
      },
      "source": [
        "<a href=\"https://colab.research.google.com/github/anaiy2004/SafePaths/blob/main/DataPipeline.ipynb\" target=\"_parent\"><img src=\"https://colab.research.google.com/assets/colab-badge.svg\" alt=\"Open In Colab\"/></a>"
      ]
    },
    {
      "cell_type": "code",
      "source": [
        "#scraping data from website\n",
        "!pip install -q tabula-py\n",
        "import pandas as pd\n",
        "import numpy as np\n",
        "import requests\n",
        "from bs4 import BeautifulSoup\n",
        "pdfList = list()\n",
        "url = 'https://ucpd.berkeley.edu/alerts-data/daily-crime-log'\n",
        "reqs = requests.get(url)\n",
        "soup = BeautifulSoup(reqs.text, 'html.parser')\n",
        "for link in soup.find_all('a'):\n",
        "    pdfList.append((link.get('href')))\n",
        "pdfList = [element for element in pdfList if len(element) > 3 and element[-4:] == '.pdf'][1:]"
      ],
      "metadata": {
        "id": "uP5Fww7s1WWL"
      },
      "execution_count": null,
      "outputs": []
    },
    {
      "cell_type": "code",
      "source": [
        "#reading pdfs from scraped links\n",
        "from tabula import read_pdf\n",
        "from tabulate import tabulate\n",
        "import io\n",
        "pages = 3\n",
        "counter = -1\n",
        "ans = []\n",
        "for newUrl in pdfList:\n",
        "  counter += 1\n",
        "  for k in range(10):\n",
        "    print(counter)\n",
        "  for i in range(pages):\n",
        "    try:\n",
        "      pdf = read_pdf(newUrl,pages = pages - i, multiple_tables = False, stream = True)\n",
        "    except:\n",
        "      print(\"An exception occurred\")\n",
        "  table = tabulate(pdf)\n",
        "  try:\n",
        "    df = pd.read_fwf(io.StringIO(table))\n",
        "  except:\n",
        "    continue\n",
        "  df  = df.iloc[: , :6]\n",
        "  df.columns = [\"case\", \"crime\", \"reported\", \"range\", \"location\", \"disposition\"]\n",
        "  ans.append(df)"
      ],
      "metadata": {
        "id": "TflBx2yXQmXx"
      },
      "execution_count": null,
      "outputs": []
    },
    {
      "cell_type": "code",
      "source": [
        "#creating dates list\n",
        "dates = []\n",
        "for dataframes in ans:\n",
        "  reported = list(dataframes['reported'])\n",
        "  for date in reported:\n",
        "    if(not (\"NaN\" in date)):\n",
        "      dates.append(date)\n",
        "      break"
      ],
      "metadata": {
        "id": "C5CiTgPdVcZm"
      },
      "execution_count": null,
      "outputs": []
    },
    {
      "cell_type": "code",
      "source": [
        "len(ans)"
      ],
      "metadata": {
        "colab": {
          "base_uri": "https://localhost:8080/"
        },
        "id": "NyeMImBV7usZ",
        "outputId": "c3591042-bdd8-4356-9e35-4f69fc141ccd"
      },
      "execution_count": null,
      "outputs": [
        {
          "output_type": "execute_result",
          "data": {
            "text/plain": [
              "164"
            ]
          },
          "metadata": {},
          "execution_count": 296
        }
      ]
    },
    {
      "cell_type": "code",
      "source": [
        "#parsing tables to find respective location and crimes\n",
        "finalLocations = [[]]\n",
        "finalCrimes = [[]]\n",
        "counter = -1\n",
        "for j in range(len(ans)):\n",
        "  counter += 1\n",
        "  locColumn = ans[j]['location']\n",
        "  crimeColumn = ans[j]['crime']\n",
        "  loc = list()\n",
        "  crime = list()\n",
        "  check = True\n",
        "  counter2 = -1\n",
        "  for strings in locColumn:\n",
        "    counter2 += 1\n",
        "    if(not isinstance(strings, str)):\n",
        "      finalLocations.append([])\n",
        "      finalCrimes.append([])\n",
        "      check = False\n",
        "      break\n",
        "    if(not \"NaN\" in strings):\n",
        "      loc.append(strings)\n",
        "      ans1 = str(crimeColumn[counter2])\n",
        "      for k in range(counter2 + 1, len(locColumn)):\n",
        "        if(\"NaN\" in locColumn[k]):\n",
        "          ans1 += str(crimeColumn[k])\n",
        "        else:\n",
        "          break\n",
        "      crime.append(ans1)\n",
        "  if(not check):\n",
        "    continue\n",
        "  loc = loc[0:-1]\n",
        "  crime = crime[0:-1]\n",
        "  for i in range(len(loc) - 1):\n",
        "      loc[i] = (loc[i][2:].strip())\n",
        "  loc[-1] = loc[-1][6: -15]\n",
        "  loc = [loc[k].split(\";\")[0] for k in range(len(loc))]\n",
        "  finalLocations.append(loc)\n",
        "  finalCrimes.append(crime)\n",
        "finalLocations = finalLocations[1:]\n",
        "finalCrimes = finalCrimes[1:]"
      ],
      "metadata": {
        "id": "EAkbjmkJZ4aI"
      },
      "execution_count": null,
      "outputs": []
    },
    {
      "cell_type": "code",
      "source": [
        "finalLocations[0]"
      ],
      "metadata": {
        "colab": {
          "base_uri": "https://localhost:8080/"
        },
        "id": "nkodav55q_fz",
        "outputId": "9698136b-03cf-4157-ae4a-0ba4efc20b23"
      },
      "execution_count": null,
      "outputs": [
        {
          "output_type": "execute_result",
          "data": {
            "text/plain": [
              "['1928 Stadium Rim Wy',\n",
              " 'Ridge Rd  & Highland Pl',\n",
              " 'Upper Sproul Plaza',\n",
              " '2495 Bancroft Wy',\n",
              " 'Foothill-2']"
            ]
          },
          "metadata": {},
          "execution_count": 105
        }
      ]
    },
    {
      "cell_type": "code",
      "source": [
        "#combining and parsing finalCrimes\n",
        "for i in range(len(finalCrimes)):\n",
        "  for j in range(len(finalCrimes[i])):\n",
        "    finalCrimes[i][j] = finalCrimes[i][j].strip()\n",
        "    if(j + 1 == len(finalCrimes[i])):\n",
        "      finalCrimes[i][j] = finalCrimes[i][j][6:-15]\n",
        "    else:\n",
        "      finalCrimes[i][j] = finalCrimes[i][j][2:].strip()\n",
        "    finalCrimes[i][j] = \" \".join(finalCrimes[i][j].split())"
      ],
      "metadata": {
        "id": "ZLreVg1p--0i"
      },
      "execution_count": null,
      "outputs": []
    },
    {
      "cell_type": "code",
      "source": [
        "finalCrimes[0]"
      ],
      "metadata": {
        "colab": {
          "base_uri": "https://localhost:8080/"
        },
        "id": "1RwLXfCi-8tG",
        "outputId": "754ecd07-11e5-414c-d08b-e8b8d5053d1d"
      },
      "execution_count": null,
      "outputs": [
        {
          "output_type": "execute_result",
          "data": {
            "text/plain": [
              "['22651(n): VC; Posted Tow Away Zone;1 Infraction',\n",
              " \"487(A): PC; Grand3 Theft:money/Labor/Property; Felony4 10851(A): VC; Take Vehicle W/O Owner's5 Consent/Vehicle Theft; Felony6 OA-BPD: Outside Assist - BPD\",\n",
              " 'DEMO: Demonstration',\n",
              " '148.4(A)(1): PC; Tamper/Etc With Fire9 Alarm/Etc; Misdemeanor',\n",
              " 'Caslty: Injury/Illness']"
            ]
          },
          "metadata": {},
          "execution_count": 116
        }
      ]
    },
    {
      "cell_type": "code",
      "source": [
        "(len(finalLocations), len(dates))"
      ],
      "metadata": {
        "colab": {
          "base_uri": "https://localhost:8080/"
        },
        "id": "CkW07kdYdDPG",
        "outputId": "f6ed268a-f2c6-40cc-b07b-6fe92eab730c"
      },
      "execution_count": null,
      "outputs": [
        {
          "output_type": "execute_result",
          "data": {
            "text/plain": [
              "(164, 164)"
            ]
          },
          "metadata": {},
          "execution_count": 112
        }
      ]
    },
    {
      "cell_type": "code",
      "source": [
        "#for dataset labelling\n",
        "stackedFinalCrimes = []\n",
        "for day in finalCrimes:\n",
        "  for eachCrime in day:\n",
        "    stackedFinalCrimes.append(eachCrime)\n",
        "len(stackedFinalCrimes)"
      ],
      "metadata": {
        "id": "6XGiGo2Al4DS"
      },
      "execution_count": null,
      "outputs": []
    },
    {
      "cell_type": "code",
      "source": [
        "#saving stacked crimes for Co:here\n",
        "from google.colab import files\n",
        "df2 = pd.DataFrame()\n",
        "df2[\"crimes\"] = stackedFinalCrimes\n",
        "df2.to_csv('sample.csv')\n",
        "files.download(\"sample.csv\")"
      ],
      "metadata": {
        "colab": {
          "base_uri": "https://localhost:8080/",
          "height": 17
        },
        "id": "013essY4EAxB",
        "outputId": "c3f34210-070f-4793-9613-ca29eef0166d"
      },
      "execution_count": null,
      "outputs": [
        {
          "output_type": "display_data",
          "data": {
            "text/plain": [
              "<IPython.core.display.Javascript object>"
            ],
            "application/javascript": [
              "\n",
              "    async function download(id, filename, size) {\n",
              "      if (!google.colab.kernel.accessAllowed) {\n",
              "        return;\n",
              "      }\n",
              "      const div = document.createElement('div');\n",
              "      const label = document.createElement('label');\n",
              "      label.textContent = `Downloading \"${filename}\": `;\n",
              "      div.appendChild(label);\n",
              "      const progress = document.createElement('progress');\n",
              "      progress.max = size;\n",
              "      div.appendChild(progress);\n",
              "      document.body.appendChild(div);\n",
              "\n",
              "      const buffers = [];\n",
              "      let downloaded = 0;\n",
              "\n",
              "      const channel = await google.colab.kernel.comms.open(id);\n",
              "      // Send a message to notify the kernel that we're ready.\n",
              "      channel.send({})\n",
              "\n",
              "      for await (const message of channel.messages) {\n",
              "        // Send a message to notify the kernel that we're ready.\n",
              "        channel.send({})\n",
              "        if (message.buffers) {\n",
              "          for (const buffer of message.buffers) {\n",
              "            buffers.push(buffer);\n",
              "            downloaded += buffer.byteLength;\n",
              "            progress.value = downloaded;\n",
              "          }\n",
              "        }\n",
              "      }\n",
              "      const blob = new Blob(buffers, {type: 'application/binary'});\n",
              "      const a = document.createElement('a');\n",
              "      a.href = window.URL.createObjectURL(blob);\n",
              "      a.download = filename;\n",
              "      div.appendChild(a);\n",
              "      a.click();\n",
              "      div.remove();\n",
              "    }\n",
              "  "
            ]
          },
          "metadata": {}
        },
        {
          "output_type": "display_data",
          "data": {
            "text/plain": [
              "<IPython.core.display.Javascript object>"
            ],
            "application/javascript": [
              "download(\"download_08414bd8-3876-4d83-a3a5-c165908c83bb\", \"sample.csv\", 78071)"
            ]
          },
          "metadata": {}
        }
      ]
    },
    {
      "cell_type": "code",
      "source": [
        "#using co:here for predictions\n",
        "!pip install cohere\n",
        "import cohere \n",
        "from cohere.classify import Example \n",
        "model_inputs = df2['crimes']\n",
        "co = cohere.Client('F6lbJM7XCmlWJNSjwpqE8rdmNjHmF1325dyINMtK')  \n",
        "response = co.classify(model='2c54e738-3814-4a25-a7bf-3e9489dcd54a-ft', inputs= model_inputs.tolist()) \n",
        "response = response.classifications\n",
        "model_outputs = outputs = [response[i].prediction for i in range(len(x))]"
      ],
      "metadata": {
        "colab": {
          "base_uri": "https://localhost:8080/"
        },
        "id": "NA-TYYKfoE5m",
        "outputId": "ba1d0662-6deb-4e49-aabe-4a1f50553c55"
      },
      "execution_count": null,
      "outputs": [
        {
          "output_type": "stream",
          "name": "stdout",
          "text": [
            "Looking in indexes: https://pypi.org/simple, https://us-python.pkg.dev/colab-wheels/public/simple/\n",
            "Requirement already satisfied: cohere in /usr/local/lib/python3.7/dist-packages (2.6.1)\n",
            "Requirement already satisfied: requests in /usr/local/lib/python3.7/dist-packages (from cohere) (2.23.0)\n",
            "Requirement already satisfied: certifi>=2017.4.17 in /usr/local/lib/python3.7/dist-packages (from requests->cohere) (2022.9.24)\n",
            "Requirement already satisfied: idna<3,>=2.5 in /usr/local/lib/python3.7/dist-packages (from requests->cohere) (2.10)\n",
            "Requirement already satisfied: chardet<4,>=3.0.2 in /usr/local/lib/python3.7/dist-packages (from requests->cohere) (3.0.4)\n",
            "Requirement already satisfied: urllib3!=1.25.0,!=1.25.1,<1.26,>=1.21.1 in /usr/local/lib/python3.7/dist-packages (from requests->cohere) (1.24.3)\n"
          ]
        }
      ]
    },
    {
      "cell_type": "code",
      "source": [
        "#putting together finalRatings\n",
        "finalRatings = [[]]\n",
        "counter3 = 0\n",
        "for days in finalCrimes:\n",
        "  cur = []\n",
        "  for crime in days:\n",
        "    cur.append(model_outputs[counter3])\n",
        "    counter3 += 1\n",
        "  finalRatings.append(cur)\n",
        "finalRatings = finalRatings[1:]"
      ],
      "metadata": {
        "id": "L-b0lOITyv9f"
      },
      "execution_count": null,
      "outputs": []
    },
    {
      "cell_type": "code",
      "source": [
        "#for geomaps labelling\n",
        "stackedFinalLocations = []\n",
        "for day in finalLocations:\n",
        "  for eachLocation in day:\n",
        "    stackedFinalLocations.append(eachLocation)\n",
        "len(stackedFinalLocations)"
      ],
      "metadata": {
        "colab": {
          "base_uri": "https://localhost:8080/"
        },
        "id": "o5QDCsGFzM4t",
        "outputId": "438a120a-e524-4240-aba6-a793dd75e586"
      },
      "execution_count": null,
      "outputs": [
        {
          "output_type": "execute_result",
          "data": {
            "text/plain": [
              "1374"
            ]
          },
          "metadata": {},
          "execution_count": 259
        }
      ]
    },
    {
      "cell_type": "code",
      "source": [
        "from google.colab import files\n",
        "df3 = pd.DataFrame()\n",
        "df3[\"Address\"] = stackedFinalLocations\n",
        "df3.to_csv('sample2.csv')\n",
        "#files.download(\"sample2.csv\")"
      ],
      "metadata": {
        "colab": {
          "base_uri": "https://localhost:8080/",
          "height": 17
        },
        "id": "Q4KPe13J1QGn",
        "outputId": "abe53b96-bc27-49b7-cc63-609e9d821f13"
      },
      "execution_count": null,
      "outputs": [
        {
          "output_type": "display_data",
          "data": {
            "text/plain": [
              "<IPython.core.display.Javascript object>"
            ],
            "application/javascript": [
              "\n",
              "    async function download(id, filename, size) {\n",
              "      if (!google.colab.kernel.accessAllowed) {\n",
              "        return;\n",
              "      }\n",
              "      const div = document.createElement('div');\n",
              "      const label = document.createElement('label');\n",
              "      label.textContent = `Downloading \"${filename}\": `;\n",
              "      div.appendChild(label);\n",
              "      const progress = document.createElement('progress');\n",
              "      progress.max = size;\n",
              "      div.appendChild(progress);\n",
              "      document.body.appendChild(div);\n",
              "\n",
              "      const buffers = [];\n",
              "      let downloaded = 0;\n",
              "\n",
              "      const channel = await google.colab.kernel.comms.open(id);\n",
              "      // Send a message to notify the kernel that we're ready.\n",
              "      channel.send({})\n",
              "\n",
              "      for await (const message of channel.messages) {\n",
              "        // Send a message to notify the kernel that we're ready.\n",
              "        channel.send({})\n",
              "        if (message.buffers) {\n",
              "          for (const buffer of message.buffers) {\n",
              "            buffers.push(buffer);\n",
              "            downloaded += buffer.byteLength;\n",
              "            progress.value = downloaded;\n",
              "          }\n",
              "        }\n",
              "      }\n",
              "      const blob = new Blob(buffers, {type: 'application/binary'});\n",
              "      const a = document.createElement('a');\n",
              "      a.href = window.URL.createObjectURL(blob);\n",
              "      a.download = filename;\n",
              "      div.appendChild(a);\n",
              "      a.click();\n",
              "      div.remove();\n",
              "    }\n",
              "  "
            ]
          },
          "metadata": {}
        },
        {
          "output_type": "display_data",
          "data": {
            "text/plain": [
              "<IPython.core.display.Javascript object>"
            ],
            "application/javascript": [
              "download(\"download_cecd6cbe-fd11-4f08-8f22-53f23f1571af\", \"sample2.csv\", 29775)"
            ]
          },
          "metadata": {}
        }
      ]
    },
    {
      "cell_type": "code",
      "source": [
        "#running the script to do geolocation\n",
        "#need to manually upload the python_batch_geocode.py file for now\n",
        "!python3 '/content/python_batch_geocode.py'\n",
        "newdf = pd.read_csv(\"/content/output_geocoded.csv\")\n",
        "newdf.head()"
      ],
      "metadata": {
        "id": "kBAth5ON1oJ7"
      },
      "execution_count": null,
      "outputs": []
    },
    {
      "cell_type": "code",
      "source": [
        "#putting together finalized data for json creation\n",
        "finalLatitudes = [[]]\n",
        "finalLongitudes = [[]]\n",
        "geo_latitudes = newdf['latitude']\n",
        "geo_longitudes = newdf['longitude']\n",
        "counter4 = 0\n",
        "for days in finalLocations:\n",
        "  curLat = []\n",
        "  curLong = []\n",
        "  for locations in days:\n",
        "    curLat.append(geo_latitudes[counter4])\n",
        "    curLong.append(geo_longitudes[counter4])\n",
        "    counter4 += 1\n",
        "  finalLatitudes.append(curLat)\n",
        "  finalLongitudes.append(curLong)\n",
        "finalLatitudes = finalLatitudes[1:]\n",
        "finalLongitudes = finalLongitudes[1:]"
      ],
      "metadata": {
        "id": "00SIt2We63h7"
      },
      "execution_count": null,
      "outputs": []
    },
    {
      "cell_type": "code",
      "source": [
        "# making sure variable lengths are the same\n",
        "print(len(finalCrimes))\n",
        "print(len(finalLocations))\n",
        "print(len(finalRatings))\n",
        "print(len(finalLatitudes))\n",
        "print(len(finalLongitudes))\n",
        "###########################\n",
        "print(len(geo_latitudes)) #location latitude\n",
        "print(len(geo_longitudes)) #location longitude\n",
        "print(len(stackedFinalLocations)) #location name\n",
        "print(len(model_outputs)) # crime ratings\n",
        "print(len(stackedFinalCrimes)) #crime name"
      ],
      "metadata": {
        "colab": {
          "base_uri": "https://localhost:8080/"
        },
        "id": "AE1OpLJ47lFb",
        "outputId": "4d126477-0caf-471e-9322-b96b63734091"
      },
      "execution_count": null,
      "outputs": [
        {
          "output_type": "stream",
          "name": "stdout",
          "text": [
            "164\n",
            "164\n",
            "164\n",
            "164\n",
            "164\n",
            "1374\n",
            "1374\n",
            "1374\n",
            "1374\n",
            "1374\n"
          ]
        }
      ]
    },
    {
      "cell_type": "code",
      "source": [
        "#saving file for flask post request\n",
        "import json \n",
        "lst = list()\n",
        "for i in range(len(stackedFinalCrimes)):\n",
        "  maps = {\"address\" : stackedFinalLocations[i], \"latitude\" : geo_latitudes[i] , \"longitude\" : geo_longitudes[i], \"crime_score\": model_outputs[i]}\n",
        "  lst.append(maps)\n",
        "print(len(lst))\n",
        "json_object = json.dumps(lst) \n",
        "json_object\n",
        "text_file = open(\"/content/jsonfinal.txt\", \"w\")\n",
        "text_file.write(json_object)\n",
        "text_file.close()"
      ],
      "metadata": {
        "colab": {
          "base_uri": "https://localhost:8080/"
        },
        "id": "PALCeKVPHw6F",
        "outputId": "466dfc79-e8ff-45cd-efa0-b9ab352e5ac4"
      },
      "execution_count": null,
      "outputs": [
        {
          "output_type": "stream",
          "name": "stdout",
          "text": [
            "1374\n"
          ]
        }
      ]
    },
    {
      "cell_type": "code",
      "source": [
        "#need to rename jsonfinal.txt to jsonfinal.json manually for now\n",
        "#executes a POST request to CockroachDB\n",
        "import json\n",
        "filename = '/content/jsonfinal.json'\n",
        "with open(filename) as data_file:    \n",
        "    data = json.load(data_file)\n",
        "print(data)\n",
        "import requests\n",
        "url = 'https://aoauzvp8dk.execute-api.us-west-1.amazonaws.com/default/add'\n",
        "for i in data:\n",
        "  x = requests.post(url, json = i)"
      ],
      "metadata": {
        "id": "uosj_mrpmlcs"
      },
      "execution_count": null,
      "outputs": []
    }
  ]
}